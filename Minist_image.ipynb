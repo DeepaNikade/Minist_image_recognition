{
 "cells": [
  {
   "cell_type": "code",
   "execution_count": 1,
   "id": "090ad1c9",
   "metadata": {},
   "outputs": [],
   "source": [
    "import tensorflow as tf\n",
    "from keras.preprocessing.image import ImageDataGenerator"
   ]
  },
  {
   "cell_type": "code",
   "execution_count": 2,
   "id": "fafe6805",
   "metadata": {},
   "outputs": [],
   "source": [
    "import matplotlib\n",
    "import matplotlib.pyplot as plt\n",
    "import numpy as np\n",
    "import pandas as pd\n",
    "import tensorflow.keras.utils as tku"
   ]
  },
  {
   "cell_type": "code",
   "execution_count": 3,
   "id": "4fb2a1e4",
   "metadata": {},
   "outputs": [
    {
     "data": {
      "text/plain": [
       "'2.3.0'"
      ]
     },
     "execution_count": 3,
     "metadata": {},
     "output_type": "execute_result"
    }
   ],
   "source": [
    "tf.__version__"
   ]
  },
  {
   "cell_type": "code",
   "execution_count": 4,
   "id": "2a9cc9d3",
   "metadata": {},
   "outputs": [
    {
     "name": "stdout",
     "output_type": "stream",
     "text": [
      "Found 37340 images belonging to 10 classes.\n"
     ]
    }
   ],
   "source": [
    "train_datagen = ImageDataGenerator(rescale = 1./255,\n",
    "                                   shear_range = 0.2,\n",
    "                                   zoom_range = 0.2,\n",
    "                                   horizontal_flip = True)\n",
    "training_set = train_datagen.flow_from_directory('dataset/MNIST/training_set',\n",
    "                                                 target_size = (28, 28),\n",
    "                                                 batch_size = 32,\n",
    "                                                 class_mode = 'categorical')"
   ]
  },
  {
   "cell_type": "code",
   "execution_count": 5,
   "id": "0d793b2e",
   "metadata": {},
   "outputs": [
    {
     "name": "stdout",
     "output_type": "stream",
     "text": [
      "Found 4660 images belonging to 10 classes.\n"
     ]
    }
   ],
   "source": [
    "train_datagen = ImageDataGenerator(rescale = 1./255,\n",
    "                                   shear_range = 0.2,\n",
    "                                   zoom_range = 0.2,\n",
    "                                   horizontal_flip = True)\n",
    "test_set = train_datagen.flow_from_directory('dataset/MNIST/test_set',\n",
    "                                                 target_size = (28, 28),\n",
    "                                                 batch_size = 32,\n",
    "                                                 class_mode = 'categorical')"
   ]
  },
  {
   "cell_type": "code",
   "execution_count": 6,
   "id": "89a6c656",
   "metadata": {},
   "outputs": [],
   "source": [
    "cnn = tf.keras.models.Sequential()"
   ]
  },
  {
   "cell_type": "code",
   "execution_count": 7,
   "id": "e7f968a6",
   "metadata": {},
   "outputs": [],
   "source": [
    "cnn.add(tf.keras.layers.Conv2D(filters=32, kernel_size=3, activation='relu', input_shape=[28, 28, 3]))"
   ]
  },
  {
   "cell_type": "code",
   "execution_count": 8,
   "id": "28bdbea8",
   "metadata": {},
   "outputs": [],
   "source": [
    "cnn.add(tf.keras.layers.MaxPool2D(pool_size=2, strides=2))"
   ]
  },
  {
   "cell_type": "code",
   "execution_count": 9,
   "id": "7e873c90",
   "metadata": {},
   "outputs": [],
   "source": [
    "cnn.add(tf.keras.layers.Conv2D(filters=32, kernel_size=3, activation='relu'))\n",
    "cnn.add(tf.keras.layers.MaxPool2D(pool_size=2, strides=2))"
   ]
  },
  {
   "cell_type": "code",
   "execution_count": 10,
   "id": "1a1317d5",
   "metadata": {},
   "outputs": [],
   "source": [
    "cnn.add(tf.keras.layers.Flatten())"
   ]
  },
  {
   "cell_type": "code",
   "execution_count": 11,
   "id": "8b3ac7d5",
   "metadata": {},
   "outputs": [],
   "source": [
    "cnn.add(tf.keras.layers.Dense(units=64, activation='relu'))"
   ]
  },
  {
   "cell_type": "code",
   "execution_count": 12,
   "id": "f1ccc5ab",
   "metadata": {},
   "outputs": [],
   "source": [
    "cnn.add(tf.keras.layers.Dense(units=10, activation='softmax'))"
   ]
  },
  {
   "cell_type": "code",
   "execution_count": 13,
   "id": "ef384fb6",
   "metadata": {},
   "outputs": [],
   "source": [
    "cnn.compile(optimizer = 'adam', loss = 'categorical_crossentropy', metrics = ['accuracy'])"
   ]
  },
  {
   "cell_type": "code",
   "execution_count": 14,
   "id": "894d83f9",
   "metadata": {},
   "outputs": [
    {
     "name": "stdout",
     "output_type": "stream",
     "text": [
      "Epoch 1/20\n",
      "1167/1167 [==============================] - 74s 63ms/step - loss: 0.3659 - accuracy: 0.8818 - val_loss: 0.1674 - val_accuracy: 0.9446\n",
      "Epoch 2/20\n",
      "1167/1167 [==============================] - 52s 44ms/step - loss: 0.1368 - accuracy: 0.9584 - val_loss: 0.1124 - val_accuracy: 0.9676\n",
      "Epoch 3/20\n",
      "1167/1167 [==============================] - 50s 43ms/step - loss: 0.1033 - accuracy: 0.9677 - val_loss: 0.0801 - val_accuracy: 0.9725A: 21s - loss: 0 - ETA: 19s - loss: 0.1069 - accur - ETA: 18s - loss: 0.1077 - - ETA: 16s - loss: 0.1070 - accuracy: 0.965 - ETA: 16s - loss: 0.1068 - accuracy: 0.9 - ETA: 16s - loss: 0.1062 - accuracy: 0.966 - ETA: 15s - loss: 0.1061 - accuracy: 0.9 - ETA: 15s - loss: 0.1062 - accuracy: 0.96 - ETA: 15s - loss: 0.1064 - acc - ETA: 14s - loss: 0.1073 -  - ETA: 12s - loss: 0.1071 - accu - ETA: 11s -  - ETA: 9s - loss: 0.1055 -  - ETA: 8s - loss: 0.1061 - accuracy:  - ETA: 8s - ETA: 7s - loss: 0.1051 - ac - ETA: 2s - loss: 0.1031 - accuracy: 0. - ETA: 2s - los\n",
      "Epoch 4/20\n",
      "1167/1167 [==============================] - 50s 43ms/step - loss: 0.0847 - accuracy: 0.9735 - val_loss: 0.0841 - val_accuracy: 0.9740\n",
      "Epoch 5/20\n",
      "1167/1167 [==============================] - 47s 40ms/step - loss: 0.0710 - accuracy: 0.9783 - val_loss: 0.0670 - val_accuracy: 0.9781\n",
      "Epoch 6/20\n",
      "1167/1167 [==============================] - 46s 39ms/step - loss: 0.0655 - accuracy: 0.9795 - val_loss: 0.0642 - val_accuracy: 0.9805\n",
      "Epoch 7/20\n",
      "1167/1167 [==============================] - 46s 39ms/step - loss: 0.0589 - accuracy: 0.9811 - val_loss: 0.0605 - val_accuracy: 0.9813\n",
      "Epoch 8/20\n",
      "1167/1167 [==============================] - 48s 41ms/step - loss: 0.0542 - accuracy: 0.9828 - val_loss: 0.0584 - val_accuracy: 0.9818\n",
      "Epoch 9/20\n",
      "1167/1167 [==============================] - 48s 41ms/step - loss: 0.0492 - accuracy: 0.9839 - val_loss: 0.0663 - val_accuracy: 0.9783\n",
      "Epoch 10/20\n",
      "1167/1167 [==============================] - 48s 41ms/step - loss: 0.0461 - accuracy: 0.9852 - val_loss: 0.0504 - val_accuracy: 0.9833\n",
      "Epoch 11/20\n",
      "1167/1167 [==============================] - 47s 41ms/step - loss: 0.0449 - accuracy: 0.9862 - val_loss: 0.0580 - val_accuracy: 0.9822\n",
      "Epoch 12/20\n",
      "1167/1167 [==============================] - 45s 39ms/step - loss: 0.0411 - accuracy: 0.9868 - val_loss: 0.0644 - val_accuracy: 0.9807 30s - loss: 0.0342 - accuracy: 0.988 - ETA: 30s - loss: 0.0340 - accuracy: 0 - ETA: 30s - loss: 0.0348 - accurac - ETA: 29s - loss: 0.0356 - accuracy: 0.988 - ETA: 29s - loss: 0. - ETA: 27s - loss: 0.0364 - accurac - ETA: 27s -  - ETA: 24s - loss: 0.0374 - accurac - ETA - ETA: 21s - loss: 0.0379 - a - ETA: 20s - loss: 0.0395 - accuracy:  - ETA: 19s - loss: 0.0398 - accuracy: 0. - ETA: 19s - loss: 0.0399 - accuracy: 0.9 - ETA: 19s - loss: 0.0400 - ETA: 17s - loss: 0.0416 - accuracy:  - ETA: 17s - loss: 0.0415 - accur - ETA: 1\n",
      "Epoch 13/20\n",
      "1167/1167 [==============================] - 48s 41ms/step - loss: 0.0393 - accuracy: 0.9878 - val_loss: 0.0550 - val_accuracy: 0.9805\n",
      "Epoch 14/20\n",
      "1167/1167 [==============================] - 46s 39ms/step - loss: 0.0355 - accuracy: 0.9881 - val_loss: 0.0567 - val_accuracy: 0.9845curacy:  - ETA: 2s - loss: 0.036\n",
      "Epoch 15/20\n",
      "1167/1167 [==============================] - 44s 38ms/step - loss: 0.0357 - accuracy: 0.9883 - val_loss: 0.0486 - val_accuracy: 0.9845 - ETA: 35s - loss: 0.0280 - accuracy: 0.99 - ETA: 35s - loss: 0.0277 - accuracy: 0. - ETA: 34s - loss: 0.0274 - accuracy: 0.991 - ETA: 34s - loss: 0.0270 - - ETA: 33s - loss: 0.0358 - accuracy: 0.99 - ETA: 33s - loss: 0.0353 - accuracy: 0.99 - ETA: 32s - loss: 0.0372 - accuracy: 0. - ETA: 32s - loss: 0.0378 - accuracy - ETA: 31s - loss: 0.0382 - accuracy: 0 - ETA:  - ETA: 22s - loss: 0.035 - ETA: 2 - ETA: 13s - loss:  - ETA: 11s - loss\n",
      "Epoch 16/20\n",
      "1167/1167 [==============================] - 47s 41ms/step - loss: 0.0347 - accuracy: 0.9889 - val_loss: 0.0506 - val_accuracy: 0.9856\n",
      "Epoch 17/20\n",
      "1167/1167 [==============================] - 52s 45ms/step - loss: 0.0336 - accuracy: 0.9892 - val_loss: 0.0528 - val_accuracy: 0.9843- accuracy: 0. - ETA: 26s - loss: 0.0344 - accuracy: 0. - ETA: 26s - loss: 0.0341  - ETA: 24s - loss: 0.0339 - accuracy:  - ETA: 23s - loss: 0.0338 - accuracy: 0.988 - ETA: 23s - loss - ETA: 20s - loss: 0.0339 - accuracy - ETA: 19s - loss: 0.0335 - accuracy - ETA: 18s - loss: 0.0339 - accuracy: 0.98 - ETA: 18s - loss: 0.0 - ETA: 16s - loss: 0.0350 - accuracy: 0 - ETA: 16s - loss: 0.0347 - accuracy: 0.98 - ETA: 15s - loss: 0.0346 - accuracy: 0 - ETA: 15s - loss: 0.0349 - accuracy: 0.98 - ETA: 15s - loss: 0.0348 - accu - ETA: 14s - loss: 0.0346 - accur - ETA: 13s - loss: 0.0345 - accuracy: 0.989 - ETA: 13s - loss: 0.0344 - accuracy: - ETA: 12s - loss: 0.0344 - accuracy: 0 - ETA: 12s - loss: 0 - ETA: 10s - loss: 0.0342 - accuracy: - ETA: 9s - loss: 0.0340 - ac - ETA:  - ETA: 7s - loss: 0.0339 - accuracy: 0.98 - ETA: 7s - loss: 0.0338 - accuracy: 0.98 - ETA: 7s - loss: 0.0337 - accuracy: 0.98 - ETA: 7s - loss: 0.0337 - accura - ETA: 7s - loss: 0.0335 - accuracy: 0. - ETA: 6s - loss: 0.0334 - accuracy: 0.98 - ETA:  - ETA: 5s - loss: 0.0337 - accu - ETA: 4s - los - ETA: 1s - loss: 0.0336 - accuracy: 0.98 - ETA: 1s - loss: 0.0336 - ac - ETA: 1s - loss: 0.0336 - accuracy: 0. -\n",
      "Epoch 18/20\n",
      "1167/1167 [==============================] - 44s 38ms/step - loss: 0.0324 - accuracy: 0.9898 - val_loss: 0.0483 - val_accuracy: 0.985258 - acc - ETA: 33s - loss: 0.0341 - accuracy: 0. - ETA: 32s - loss: 0.0337 - accuracy: 0.989 - ETA: 32s - loss: 0.0334 - accuracy: 0.989 - ETA: 32s - loss: 0.0332 - accura - ETA: 27s - loss: 0.0324 - accuracy: 0 - ETA: 27s - loss: 0.0332 - accuracy: 0.9 - ETA: 26s - loss: 0 - ETA: 24s - loss: 0.0328 - accuracy: 0.98 - ETA: 24s - loss: 0.0326 - accuracy: 0.9 - ETA: 24s - loss: 0.0324 - accuracy: 0. - ETA: 24s - loss: 0.0323 - accuracy: 0 - ETA: 23s - loss: 0.0321 - accuracy: 0.9 - ETA: 23s - loss: 0.0318 - accuracy: - ETA: 22s - loss: 0.0316 - accura - ETA: 22s - loss: 0.0308 - accuracy: 0.9 - ETA: 21s - loss: 0.0307 - accuracy: 0.98 - ETA: 21s - loss: 0.0306 - acc - ETA: 18s - loss: 0.0320 - accuracy: - ETA - ETA: 14s - loss: 0.0318 - accuracy: 0.98 - ETA: 14s - loss: 0.0316 - accuracy: 0.989 - ETA: 14s - lo - ETA: 12s - loss: 0.0319 - accuracy: 0.989 - ETA: 12s - loss: 0. - ETA: 10s - loss: 0. - ETA: 9s - los - ETA: 8s - loss: 0.0322 - accuracy: 0.98 - ETA: 8s - loss: 0.0321 - accu - ETA: 7s - loss: 0.0320 - accuracy: 0. - ETA: 7s - loss: 0.0320 - accu - ETA:  - ETA: 6s - loss: 0.0322 - accuracy: 0. - - ETA: 4s - loss: 0.0329 - accuracy: 0.98 - ETA: 4s - loss: 0.0328 - ac - ETA: 3s - loss: 0.0328 - accura - ETA: 3s - loss: 0.0327 - accura - ETA: 3s - ETA: 2s - loss: 0.032 - ETA: 1s - loss: 0.0326 - accu - ETA: 1s - loss: 0.0326 - accuracy - ETA: 0s - loss: 0.0325 - accuracy: 0.98 - ETA: 0s - loss: 0.0\n",
      "Epoch 19/20\n"
     ]
    },
    {
     "name": "stdout",
     "output_type": "stream",
     "text": [
      "1167/1167 [==============================] - 41s 35ms/step - loss: 0.0298 - accuracy: 0.9911 - val_loss: 0.0483 - val_accuracy: 0.9848: 33s - loss: 0.0301 - accuracy: - ETA: 32s - loss: 0.0288  - ETA: 31s - loss: 0.031 - ETA: 30s - loss: 0.0303 - accuracy: 0.991 - ETA: 30s - l - ETA: 28s - loss: 0.0331 - accurac - ETA: 27s - loss: 0.0334 - accuracy: 0 - ETA: 27s - loss: 0.0329 - accuracy: 0.99 - ETA: 27s - loss: 0.0326  - ETA: 25s - loss: 0.0324  - ETA: 24s - loss: 0.0326 - accuracy: 0 - ETA: 24s -  - ETA: 22s - loss: 0.0319 - accuracy: 0.990 - ETA: 22s - loss: 0.0318 - a - ETA: 21s - loss: 0.0323 - accuracy: - ETA: 20s - loss: 0.0319 - accuracy: 0.99 - ETA: 20s - loss: 0.0319 - accuracy: 0.990 - ETA: 20s - loss: 0.0318 - accuracy: - ETA: 20s - loss: 0.0319 - accuracy: 0.990 - ETA: 20s - lo - ETA: 18s - loss: 0.0313 - accuracy: 0.9 - ETA: 17s - loss: 0.0312 - accuracy: 0.99 - ETA: 17s - loss: 0.0311 - accuracy: - ETA: 17s - loss: 0.0308 - accuracy: 0.991 - ETA: 17s - loss: 0.0310 - accu - ETA: 16s - loss: 0.0308 - accuracy: 0. - ETA: 16s - loss: 0.0306 - accuracy: 0 - ETA: 15s - loss: 0.0311 - accuracy: 0.99 - ETA: 15s - loss: 0.0311  - ETA: 14s - loss: 0.0309 - accu - ETA: 13s - loss: 0.0306 - accura - ETA: 13s - loss: 0.0307 - a - ETA: 12s - loss: 0.0299 - accuracy: 0.991 - ETA: 12s - loss: 0.0298 - accuracy: 0.991 - ETA: 12s - loss: 0.0298 - accuracy: 0.9 - ETA: 11s - loss: 0.0296 - accuracy: 0.9 - ETA: 11s - loss: 0.0301 - accuracy: 0.99 - ETA: 11s - loss: 0.0301 - accuracy:  - ETA: 11s - loss: 0.0300 - accuracy: 0.99 - ETA: 10s - loss: 0.0300 - accuracy: 0.9 - ETA: 10s - loss - ETA: 9s - loss: 0.0300 - accuracy: 0. - ETA: 9s - l - ETA: 5s - loss: 0.0296 - ac - ETA: 4s - loss: 0.0296 - accuracy: 0. - ETA: 4s - loss: 0.0295 - accu - ETA: 4s - loss: 0.0296 - accura - ETA: 4s - loss: 0.0294 - accuracy - ETA: 3s - loss: 0.0294 - accuracy: 0.99 - ETA: 3s - loss: 0.0294 - accuracy: 0. - - ETA: 2s - loss: 0.0295  - ETA: 0s - loss: 0.0298 - accuracy\n",
      "Epoch 20/20\n",
      "1167/1167 [==============================] - 40s 34ms/step - loss: 0.0284 - accuracy: 0.9910 - val_loss: 0.0443 - val_accuracy: 0.9863s - loss: 0.0259 - accuracy: 0.990 - ETA: 33s - loss: 0.0250 - accuracy:  - ETA: 33s - loss: 0.0247 - accuracy: 0. - ETA: 33s - loss: 0.0241 - accuracy - ETA: 33s - lo - ETA: 31s - loss: 0.0271 - accura - ETA: 31s -  - ETA: 29s - loss: 0.0261 - accuracy: 0.99 - ETA: 29s - loss: 0.0259 - accuracy: - ETA: 28s - loss: 0.0260 - accurac - ETA: 28s - loss: 0.0259 - accuracy: 0.9 - ETA: 27s - loss: 0.0259 - accuracy: 0.9 - ETA: 27s - loss: 0.0258 - accur - ETA: 27s - loss: 0.0252 - accuracy:  - ETA: 26s - loss: 0.0246 - accuracy: 0.992 - ETA: 26s - loss: 0.0245 - accuracy:  - ETA: 26s - loss: 0.0254 - accuracy: 0. - ETA: 26s - loss: - ETA: 24s - loss: 0.0268 - accuracy: 0.991 - ETA: 24s - loss: - ETA: 22s - loss: 0.0263 - accur - ETA: 22s - loss: 0.0261 - accuracy: 0.992 - ETA: 21s - loss:  - ETA: 17s - loss: 0.0268 - accuracy: 0.991 - ETA: 17s - loss: 0.0268 - ac - ETA: 16s - loss: 0.0269 - accur - ETA: 15s - loss: 0.0272 - - ETA: 14s - loss: 0.0271 - accuracy: 0.99 - ETA: 14s - loss: 0.0272  - ETA: 13s - loss: 0.0275 - accuracy: 0.991 - ETA: 13s - loss: 0.0275 - accuracy: 0.991 - ETA: 13s - loss: 0.0275  - ETA: 12s - loss: 0.0279 - accuracy: 0 - ETA: 11s - loss: 0.0278 - acc - ETA: 1 - ETA: 9s - loss: 0.0289 - accuracy:  - E - ETA: 6s - loss: 0.0288 - accu - ETA: 6s - loss: 0.0286 - accuracy - ETA: 4s - loss: 0.0281  - ETA: 2s - los - ETA: 1s - loss: 0.0278 - accura - ETA: 1s - loss: 0 - ETA: 0s - loss: 0.0282 - accuracy: 0.99 - ETA: 0s - loss: 0.0282 - ac\n"
     ]
    }
   ],
   "source": [
    "trained_model = cnn.fit(x = training_set, validation_data = test_set, epochs = 20)"
   ]
  },
  {
   "cell_type": "code",
   "execution_count": null,
   "id": "7ce3b985",
   "metadata": {},
   "outputs": [],
   "source": [
    "import numpy as np\n",
    "from keras.preprocessing import image\n",
    "test_image = image.load_img('dataset/MNIST/single_prediction/img_52.jpg', target_size = (28, 28))\n",
    "test_image = image.img_to_array(test_image)\n",
    "test_image = np.expand_dims(test_image, axis = 0)\n",
    "results = (cnn.predict(test_image))\n",
    "training_set.class_indices\n",
    "if results[0][0] == 1:\n",
    "  prediction = 'Zero'\n",
    "elif results[0][1] == 1:\n",
    "  prediction = 'One'\n",
    "elif results[0][2] == 1:\n",
    "  prediction = 'Two'\n",
    "elif results[0][3] == 1:\n",
    "  prediction = 'Three'\n",
    "elif results[0][4] == 1:\n",
    "  prediction = 'Four'\n",
    "elif results[0][5] == 1:\n",
    "  prediction = 'Five'\n",
    "elif results[0][6] == 1:\n",
    "  prediction = 'Six'\n",
    "elif results[0][7] == 1:\n",
    "  prediction = 'Seven'\n",
    "elif results[0][8] == 1:\n",
    "  prediction = 'Eight'\n",
    "else:\n",
    "  prediction = 'Nine'"
   ]
  },
  {
   "cell_type": "code",
   "execution_count": null,
   "id": "f260eb70",
   "metadata": {},
   "outputs": [],
   "source": [
    "print(results)"
   ]
  },
  {
   "cell_type": "code",
   "execution_count": null,
   "id": "2c4811d2",
   "metadata": {},
   "outputs": [],
   "source": [
    "print(prediction)"
   ]
  }
 ],
 "metadata": {
  "kernelspec": {
   "display_name": "Python 3",
   "language": "python",
   "name": "python3"
  },
  "language_info": {
   "codemirror_mode": {
    "name": "ipython",
    "version": 3
   },
   "file_extension": ".py",
   "mimetype": "text/x-python",
   "name": "python",
   "nbconvert_exporter": "python",
   "pygments_lexer": "ipython3",
   "version": "3.8.8"
  }
 },
 "nbformat": 4,
 "nbformat_minor": 5
}
